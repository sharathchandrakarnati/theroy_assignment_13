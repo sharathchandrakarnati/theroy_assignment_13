{
 "cells": [
  {
   "cell_type": "markdown",
   "id": "faccbb28",
   "metadata": {},
   "source": [
    "## Assignment 13 Solutions"
   ]
  },
  {
   "cell_type": "markdown",
   "id": "60891118",
   "metadata": {},
   "source": [
    "### 1.What advantages do Excel spreadsheets have over CSV spreadsheets?\n",
    "<b>Ans</b> The advantages for Excel over csv are \n",
    "<ul> 1. Excel (XLS and XLSX) file formats are better for storing and analysing complex data.</ul>\n",
    "<ul> 2. An Excel not  only stored data but can also do operations on the data using macros , formulas etc</ul>\n",
    "<ul> 3. CSV files are plain-text files, Does not contain formatting, formulas, macros, etc. It is also known as flat files</ul>\n",
    "        "
   ]
  },
  {
   "cell_type": "markdown",
   "id": "e1be5fd1",
   "metadata": {},
   "source": [
    "## 2.What do you pass to csv.reader() and csv.writer() to create reader and writer objects?"
   ]
  },
  {
   "cell_type": "code",
   "execution_count": 2,
   "id": "d3e3b474",
   "metadata": {},
   "outputs": [
    {
     "name": "stdout",
     "output_type": "stream",
     "text": [
      "[\"['name,department,birthday month']\"]\n",
      "[\"['John Smith,Accounting,November']\"]\n",
      "[\"['Erica Meyers,IT,March']\"]\n"
     ]
    }
   ],
   "source": [
    "import csv\n",
    "with open('samplecsv.csv','r') as file:\n",
    "    csv_file = csv.reader(file,delimiter=',')\n",
    "    for ele in csv_file:\n",
    "        print(ele)"
   ]
  },
  {
   "cell_type": "code",
   "execution_count": null,
   "id": "9515a794",
   "metadata": {},
   "outputs": [],
   "source": []
  },
  {
   "cell_type": "markdown",
   "id": "b84b7bc8",
   "metadata": {},
   "source": [
    "## 3. What modes do File objects for reader and writer objects need to be opened in?\n",
    "<b>Ans</b>For csv.reader(iterable_file_object), the file objects needed to be opened in read mode mode='r' Whereas for csv.writer(iterable_file_object) the file objects needed to be opened in write mode mode='w'"
   ]
  },
  {
   "cell_type": "code",
   "execution_count": null,
   "id": "ee6724a8",
   "metadata": {},
   "outputs": [],
   "source": []
  },
  {
   "cell_type": "markdown",
   "id": "62f0bde9",
   "metadata": {},
   "source": [
    "## 4. What method takes a list argument and writes it to a CSV file?\n",
    "<b>ANS</b> csv.writer class provides two methods for writing to CSV. They are writerow() and writerows(). writerow() method writes a single row at a time. Whereas writerows() method is used to write multiple rows at a time."
   ]
  },
  {
   "cell_type": "code",
   "execution_count": 1,
   "id": "02eaf992",
   "metadata": {},
   "outputs": [],
   "source": [
    "import csv      \n",
    "fields = ['Name', '', 'Year', 'CGPA'] #column names \n",
    "rows = [ \n",
    "            ['Nikhil', 'COE', '2', '9.0'],  # data rows of csv file \n",
    "            ['Sanchit', 'COE', '2', '9.1'], \n",
    "            ['Ravi', 'IT', '2', '9.3']\n",
    "       ] \n",
    "with open(\"university_records.csv\", 'w') as csvfile: \n",
    "    csvwriter = csv.writer(csvfile) # creating a csv writer object \n",
    "    csvwriter.writerow(fields) # writing the fields \n",
    "    csvwriter.writerows(rows) # writing the data rows "
   ]
  },
  {
   "cell_type": "code",
   "execution_count": null,
   "id": "2713b2ac",
   "metadata": {},
   "outputs": [],
   "source": []
  },
  {
   "cell_type": "markdown",
   "id": "71da036c",
   "metadata": {},
   "source": [
    "## 5. What do the keyword arguments delimiter and line terminator do?"
   ]
  },
  {
   "cell_type": "markdown",
   "id": "ee55dd31",
   "metadata": {},
   "source": [
    "<b>ANS</b> the example of a csv file:\n",
    "<ul>FIRST NAME , EMPLOYEE_ID , DESIGNATION</ul>\n",
    "<ul>SHARATH , 12212, SOFTWARE </ul>\n",
    "<ul>RAVI ,12113, SYSTEM ADMIN  </ul>\n",
    "Here ',' is a delimeter, we can use any character as per our needs if requried , Similary line terminator comes at end of lineby default it is newline and can be changed according to requriment."
   ]
  },
  {
   "cell_type": "code",
   "execution_count": null,
   "id": "d64681d2",
   "metadata": {},
   "outputs": [],
   "source": []
  },
  {
   "cell_type": "markdown",
   "id": "e982d115",
   "metadata": {},
   "source": [
    "## 6. What function takes a string of JSON data and returns a Python data structure?\n",
    "<b>ANS</b> loads() methods take a string of json and data and returns a python data structure"
   ]
  },
  {
   "cell_type": "code",
   "execution_count": 5,
   "id": "e51bb980",
   "metadata": {},
   "outputs": [
    {
     "name": "stdout",
     "output_type": "stream",
     "text": [
      "{\n",
      "\"Name\": \"sharath chandra\",\n",
      "\"Qualification\":\"B.tech\",\n",
      "\"Stream\": \"Computer Science and Engineering\"\n",
      "}\n",
      "\n",
      "Type of my_details_json is <class 'str'>\n",
      "{'Name': 'sharath chandra', 'Qualification': 'B.tech', 'Stream': 'Computer Science and Engineering'}\n",
      "Type of my_details is <class 'dict'>\n"
     ]
    }
   ],
   "source": [
    "import json\n",
    "my_detais_json = '''{\n",
    "\"Name\": \"sharath chandra\",\n",
    "\"Qualification\":\"B.tech\",\n",
    "\"Stream\": \"Computer Science and Engineering\"\n",
    "}\n",
    "'''\n",
    "print(my_detais_json)\n",
    "print(f'Type of my_details_json is {type(my_detais_json)}')\n",
    "my_details = json.loads(my_detais_json)\n",
    "print(my_details)\n",
    "print(f'Type of my_details is {type(my_details)}')\n"
   ]
  },
  {
   "cell_type": "code",
   "execution_count": null,
   "id": "fb7c1fe5",
   "metadata": {},
   "outputs": [],
   "source": []
  },
  {
   "cell_type": "markdown",
   "id": "d40da60b",
   "metadata": {},
   "source": [
    "# 7. What function takes a Python data structure and returns a string of JSON data?\n",
    "Ans: dumps() method takes a python data structure and returns a string of JSON data"
   ]
  },
  {
   "cell_type": "code",
   "execution_count": 6,
   "id": "2c1120a8",
   "metadata": {},
   "outputs": [
    {
     "name": "stdout",
     "output_type": "stream",
     "text": [
      "{'Name': 'Mano Vishnu', 'Stream': 'Computer Science and Engineering', 'Qualification': 'Bachelor of Technology'}\n",
      "Type of my_details is <class 'dict'>\n",
      "{\n",
      "    \"Name\": \"Mano Vishnu\",\n",
      "    \"Qualification\": \"Bachelor of Technology\",\n",
      "    \"Stream\": \"Computer Science and Engineering\"\n",
      "}\n",
      "Type of my_details_json is <class 'str'>\n"
     ]
    }
   ],
   "source": [
    "import json\n",
    "my_details = {\n",
    "    'Name':'Mano Vishnu',\n",
    "    'Stream':'Computer Science and Engineering',\n",
    "    'Qualification':'Bachelor of Technology'\n",
    "}\n",
    "print(my_details)\n",
    "print(f'Type of my_details is {type(my_details)}')\n",
    "my_details_json = json.dumps(my_details, indent=4, sort_keys=True)\n",
    "print(my_details_json)\n",
    "print(f'Type of my_details_json is {type(my_details_json)}')"
   ]
  },
  {
   "cell_type": "code",
   "execution_count": null,
   "id": "0bc49c32",
   "metadata": {},
   "outputs": [],
   "source": []
  },
  {
   "cell_type": "code",
   "execution_count": null,
   "id": "0d60eabe",
   "metadata": {},
   "outputs": [],
   "source": []
  },
  {
   "cell_type": "code",
   "execution_count": null,
   "id": "e4268e49",
   "metadata": {},
   "outputs": [],
   "source": []
  },
  {
   "cell_type": "code",
   "execution_count": null,
   "id": "53e77946",
   "metadata": {},
   "outputs": [],
   "source": []
  },
  {
   "cell_type": "code",
   "execution_count": null,
   "id": "8680fa71",
   "metadata": {},
   "outputs": [],
   "source": []
  },
  {
   "cell_type": "code",
   "execution_count": null,
   "id": "ee199b32",
   "metadata": {},
   "outputs": [],
   "source": []
  },
  {
   "cell_type": "code",
   "execution_count": null,
   "id": "66259aba",
   "metadata": {},
   "outputs": [],
   "source": []
  },
  {
   "cell_type": "code",
   "execution_count": null,
   "id": "e7fccdc2",
   "metadata": {},
   "outputs": [],
   "source": []
  },
  {
   "cell_type": "code",
   "execution_count": null,
   "id": "71786586",
   "metadata": {},
   "outputs": [],
   "source": []
  },
  {
   "cell_type": "code",
   "execution_count": null,
   "id": "0ba7dc58",
   "metadata": {},
   "outputs": [],
   "source": []
  },
  {
   "cell_type": "code",
   "execution_count": null,
   "id": "33936544",
   "metadata": {},
   "outputs": [],
   "source": []
  },
  {
   "cell_type": "code",
   "execution_count": null,
   "id": "ac3b8f19",
   "metadata": {},
   "outputs": [],
   "source": []
  },
  {
   "cell_type": "code",
   "execution_count": null,
   "id": "fca1fbb2",
   "metadata": {},
   "outputs": [],
   "source": []
  },
  {
   "cell_type": "code",
   "execution_count": null,
   "id": "0746b065",
   "metadata": {},
   "outputs": [],
   "source": []
  },
  {
   "cell_type": "code",
   "execution_count": null,
   "id": "8bd682fc",
   "metadata": {},
   "outputs": [],
   "source": []
  },
  {
   "cell_type": "code",
   "execution_count": null,
   "id": "c822171a",
   "metadata": {},
   "outputs": [],
   "source": []
  },
  {
   "cell_type": "code",
   "execution_count": null,
   "id": "476f807b",
   "metadata": {},
   "outputs": [],
   "source": []
  },
  {
   "cell_type": "code",
   "execution_count": null,
   "id": "16f7c158",
   "metadata": {},
   "outputs": [],
   "source": []
  },
  {
   "cell_type": "code",
   "execution_count": null,
   "id": "b99eda54",
   "metadata": {},
   "outputs": [],
   "source": []
  },
  {
   "cell_type": "code",
   "execution_count": null,
   "id": "61ebdaff",
   "metadata": {},
   "outputs": [],
   "source": []
  },
  {
   "cell_type": "code",
   "execution_count": null,
   "id": "545a91bd",
   "metadata": {},
   "outputs": [],
   "source": []
  },
  {
   "cell_type": "code",
   "execution_count": null,
   "id": "eb381b5f",
   "metadata": {},
   "outputs": [],
   "source": []
  },
  {
   "cell_type": "code",
   "execution_count": null,
   "id": "a405333f",
   "metadata": {},
   "outputs": [],
   "source": []
  },
  {
   "cell_type": "code",
   "execution_count": null,
   "id": "971f2e23",
   "metadata": {},
   "outputs": [],
   "source": []
  },
  {
   "cell_type": "code",
   "execution_count": null,
   "id": "1b120af7",
   "metadata": {},
   "outputs": [],
   "source": []
  },
  {
   "cell_type": "code",
   "execution_count": null,
   "id": "4ba1f5b2",
   "metadata": {},
   "outputs": [],
   "source": []
  },
  {
   "cell_type": "code",
   "execution_count": null,
   "id": "cc9e7126",
   "metadata": {},
   "outputs": [],
   "source": []
  },
  {
   "cell_type": "code",
   "execution_count": null,
   "id": "574ad083",
   "metadata": {},
   "outputs": [],
   "source": []
  },
  {
   "cell_type": "code",
   "execution_count": null,
   "id": "af5eed88",
   "metadata": {},
   "outputs": [],
   "source": []
  },
  {
   "cell_type": "code",
   "execution_count": null,
   "id": "3950a1d2",
   "metadata": {},
   "outputs": [],
   "source": []
  },
  {
   "cell_type": "code",
   "execution_count": null,
   "id": "0ff83ded",
   "metadata": {},
   "outputs": [],
   "source": []
  },
  {
   "cell_type": "code",
   "execution_count": null,
   "id": "8ea1bb13",
   "metadata": {},
   "outputs": [],
   "source": []
  },
  {
   "cell_type": "code",
   "execution_count": null,
   "id": "1b4e53c6",
   "metadata": {},
   "outputs": [],
   "source": []
  },
  {
   "cell_type": "code",
   "execution_count": null,
   "id": "33964c42",
   "metadata": {},
   "outputs": [],
   "source": []
  },
  {
   "cell_type": "code",
   "execution_count": null,
   "id": "1bbd536f",
   "metadata": {},
   "outputs": [],
   "source": []
  },
  {
   "cell_type": "code",
   "execution_count": null,
   "id": "e0844fe8",
   "metadata": {},
   "outputs": [],
   "source": []
  },
  {
   "cell_type": "code",
   "execution_count": null,
   "id": "fbba63be",
   "metadata": {},
   "outputs": [],
   "source": []
  },
  {
   "cell_type": "code",
   "execution_count": null,
   "id": "6f8ea125",
   "metadata": {},
   "outputs": [],
   "source": []
  },
  {
   "cell_type": "code",
   "execution_count": null,
   "id": "08df754a",
   "metadata": {},
   "outputs": [],
   "source": []
  },
  {
   "cell_type": "code",
   "execution_count": null,
   "id": "065b34a1",
   "metadata": {},
   "outputs": [],
   "source": []
  },
  {
   "cell_type": "code",
   "execution_count": null,
   "id": "eb3cef93",
   "metadata": {},
   "outputs": [],
   "source": []
  },
  {
   "cell_type": "code",
   "execution_count": null,
   "id": "63b5a5a0",
   "metadata": {},
   "outputs": [],
   "source": []
  },
  {
   "cell_type": "code",
   "execution_count": null,
   "id": "3fc75c8a",
   "metadata": {},
   "outputs": [],
   "source": []
  },
  {
   "cell_type": "code",
   "execution_count": null,
   "id": "98843da3",
   "metadata": {},
   "outputs": [],
   "source": []
  },
  {
   "cell_type": "code",
   "execution_count": null,
   "id": "f73ff56b",
   "metadata": {},
   "outputs": [],
   "source": []
  },
  {
   "cell_type": "code",
   "execution_count": null,
   "id": "86cd2491",
   "metadata": {},
   "outputs": [],
   "source": []
  }
 ],
 "metadata": {
  "kernelspec": {
   "display_name": "Python 3 (ipykernel)",
   "language": "python",
   "name": "python3"
  },
  "language_info": {
   "codemirror_mode": {
    "name": "ipython",
    "version": 3
   },
   "file_extension": ".py",
   "mimetype": "text/x-python",
   "name": "python",
   "nbconvert_exporter": "python",
   "pygments_lexer": "ipython3",
   "version": "3.9.13"
  }
 },
 "nbformat": 4,
 "nbformat_minor": 5
}
